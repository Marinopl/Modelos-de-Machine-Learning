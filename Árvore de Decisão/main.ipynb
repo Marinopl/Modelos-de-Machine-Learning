{
 "cells": [
  {
   "cell_type": "markdown",
   "id": "da5b2b1e",
   "metadata": {},
   "source": [
    "# Árvore de Decisão\n",
    "\n",
    "* Uma **árvore de decisão** é uma representação de um conjunto de regras criado para tomar qualquer decisão, nesse caso, classificar um registro que envolva problemas de _classificação_ ou estimar um valor para problemas de _regressão_.\n",
    "\n",
    "* Para cada problema da árvore, responde-se \"Sim\" ou \"Não\", guiando o modelo até a decisão final. Cada pergunta é chamada de **nó de decisão**, onde o primeiro é o **nó raíz** e a decisão é o **nó folha**.\n",
    "\n",
    "* De maneira geral, a árvore de decisão é um decisão binária que tenta separar o dataset até conseguir uma **folha pura**, isto é, um nó que tenha apenas uma classe apenas.\n",
    "\n",
    "<p align=\"center\">\n",
    "    <img src=\"download.png\">\n",
    "</p>"
   ]
  },
  {
   "cell_type": "markdown",
   "id": "dcf028eb",
   "metadata": {},
   "source": [
    "* Como exemplo, considere o dataset abaixo. Ele considera dois conjuntos de dados (eixo vertical e horizontal) com três diferentes **classes** que não são linearmente separavéis.\n",
    "<p align=\"center\">\n",
    "    <img src=\"fig2.png\">\n",
    "</p>\n",
    "\n",
    "* Cada traço de reta é uma **decisão** tomada.\n",
    "\n",
    "### Como escolher?\n",
    "\n",
    "* A maneira que a classificação é feita depende do **Ganho de Informação** (Information Gain), isto é, vamos considerar dois tipos distintos de classificação, $A$ e $B$, para um dataset. Assim, podemos atribuir o root node a esta classificação, gerando um \"nó filho\". O quanto de informação foi ganho pelas duas classificação?\n",
    "    1. Entropia\n",
    "        * Uma maneira é utilizar a medida de Entropia de Shannon:\n",
    "        $$Entropy = -\\sum_i p_i \\log(p_i),$$\n",
    "        onde $p_i$ é a probabilidade da classe $i$. Note que, o nó raiz possui entropia igual a 1, já que é o estado de maior desordem e com menos informação. Além disso, quanto mais perto a entropia está de 0, mais puro é o nó (pure node). Então é necessário calcular a entropia para cada nó e decidir baseado nesta medida qual será a classificação escolhida.\n",
    "\n",
    "        Ganho de informação = $E(parent) - \\sum_i w_i E(child_i)$, onde $w_i$ são os pesos da distribuição das classes em relação ao nó raiz. A divisão que possuir maior ganho de informação é a escolhida.\n",
    "\n",
    "    2. Gini\n",
    "        * Uma outra maneira é calcular o Gini, já que ele tem menor custo computacional em relação ao cáculo do $log$ na Entropia.\n",
    "        $$G = 1 - \\sum_i p_i^2,$$\n",
    "        onde $p_i$ é a probabilidade da classe $i$. Assim, o ganho de informação é\n",
    "\n",
    "        Ganho de informação = $G(parent) - \\sum_i w_i G(child_i)$, onde $w_i$ são os pesos da distribuição das classes em relação ao nó raiz. A divisão que possuir maior ganho de informação é a escolhida.\n",
    "\n"
   ]
  },
  {
   "cell_type": "markdown",
   "id": "e177d68f",
   "metadata": {},
   "source": [
    "* Para dataset utilizado no exemplo, temos:\n",
    "<p align=\"center\">\n",
    "    <img src=\"fig3.png\">\n",
    "</p>\n",
    "\n",
    "* X é o nosso dataset, sendo X[0] os dados no eixo horizontal e X[1] no eixo vertical. Aqui, são tomadas decisões iniciais baseadas em intervalos em relação a X[0];\n",
    "\n",
    "* A árvore de decisão é uma representação de classificação, uma estrutura, mas somente ela não é considerado um Aprendizado de Máquina (ML). O que define ML é a escolha das regras de seleção para a criação da árvore:\n",
    "    1. ID3\n",
    "    2. C4.\n",
    "    3. C5.0\n",
    "    4. CART\n",
    "\n",
    "- https://scikit-learn.org/stable/modules/tree.html#tree-algorithms-id3-c4-5-c5-0-and-cart\n",
    "- O **scikit-learn**, segundo a própria documentação, usa uma **versão otimizada do CART (Classification and Regression Trees)**\n",
    "    - De maneira geral, a seleção de nós é feita escolhendo qual recurso e limite vai tornar os **próximos passos** mais homogêneo possível.\n",
    "\n",
    "- É um modelo que pode sofrer overfitting rapidamente.\n",
    "\n",
    "### Árvore de Decisão por Classificação:\n",
    "\n",
    "* Alvos categóricos para cada nó, prevendo a **classe majoritária** no nó pela distribuição de probabilidade, por exemplo;\n",
    "* Ganho de informação baseado em **Entropia** ou **Gini**\n",
    "* Métrica de validação do modelo: Acurácia\n",
    "\n",
    "### Árvore de Decisão por Regressão:\n",
    "\n",
    "* Alvo contínuo numérico, cada nó prevê a **a média dos valores** de $y$ naquele nó.\n",
    "* Usa métricas de ganho de informação como Variance e escolhe o corte que minimiza este erro dentro do nó. Quanto maior o valor da variância, mais a impureza do nó.\n",
    "$$Var = \\frac{1}{N} \\sum_{i=1}^N (y_i - \\bar{y})^2$$\n",
    "Aqui, $y_i$ é o target em teste e $\\bar{y}$ é a média dos targets de treinamento no nó em análise. O ganho de informação para escolher qual divisão é melhor para o nó é considerar qual divisão possui a maior redução da variância em relação ao nó raiz:\n",
    "$$Var Red = Var(parent) - \\sum_i w_i Var(child_i),$$\n",
    "onde $w_i$ são os pesos da distribuição das classes em relação ao nó raiz. A divisão que possuir tiver maior redução na Variância é a escolhida.\n",
    "* Métrica de validação do modelo **Mean Squared Error**"
   ]
  },
  {
   "cell_type": "markdown",
   "id": "4355a0e1",
   "metadata": {},
   "source": [
    "- **Utilizando o dataset iris**\n",
    "    - https://scikit-learn.org/stable/modules/generated/sklearn.datasets.load_iris.html#sklearn.datasets.load_iris"
   ]
  },
  {
   "cell_type": "code",
   "execution_count": 19,
   "id": "554f4f23",
   "metadata": {},
   "outputs": [],
   "source": [
    "import pandas as pd"
   ]
  },
  {
   "cell_type": "code",
   "execution_count": 20,
   "id": "b426c7ed",
   "metadata": {},
   "outputs": [],
   "source": [
    "from sklearn.datasets import load_iris\n",
    "\n",
    "data = load_iris()"
   ]
  },
  {
   "cell_type": "code",
   "execution_count": 23,
   "id": "bd60f748",
   "metadata": {},
   "outputs": [
    {
     "data": {
      "text/html": [
       "<div>\n",
       "<style scoped>\n",
       "    .dataframe tbody tr th:only-of-type {\n",
       "        vertical-align: middle;\n",
       "    }\n",
       "\n",
       "    .dataframe tbody tr th {\n",
       "        vertical-align: top;\n",
       "    }\n",
       "\n",
       "    .dataframe thead th {\n",
       "        text-align: right;\n",
       "    }\n",
       "</style>\n",
       "<table border=\"1\" class=\"dataframe\">\n",
       "  <thead>\n",
       "    <tr style=\"text-align: right;\">\n",
       "      <th></th>\n",
       "      <th>sepal length (cm)</th>\n",
       "      <th>sepal width (cm)</th>\n",
       "      <th>petal length (cm)</th>\n",
       "      <th>petal width (cm)</th>\n",
       "      <th>target</th>\n",
       "    </tr>\n",
       "  </thead>\n",
       "  <tbody>\n",
       "    <tr>\n",
       "      <th>0</th>\n",
       "      <td>5.1</td>\n",
       "      <td>3.5</td>\n",
       "      <td>1.4</td>\n",
       "      <td>0.2</td>\n",
       "      <td>0</td>\n",
       "    </tr>\n",
       "    <tr>\n",
       "      <th>1</th>\n",
       "      <td>4.9</td>\n",
       "      <td>3.0</td>\n",
       "      <td>1.4</td>\n",
       "      <td>0.2</td>\n",
       "      <td>0</td>\n",
       "    </tr>\n",
       "    <tr>\n",
       "      <th>2</th>\n",
       "      <td>4.7</td>\n",
       "      <td>3.2</td>\n",
       "      <td>1.3</td>\n",
       "      <td>0.2</td>\n",
       "      <td>0</td>\n",
       "    </tr>\n",
       "  </tbody>\n",
       "</table>\n",
       "</div>"
      ],
      "text/plain": [
       "   sepal length (cm)  sepal width (cm)  petal length (cm)  petal width (cm)  \\\n",
       "0                5.1               3.5                1.4               0.2   \n",
       "1                4.9               3.0                1.4               0.2   \n",
       "2                4.7               3.2                1.3               0.2   \n",
       "\n",
       "   target  \n",
       "0       0  \n",
       "1       0  \n",
       "2       0  "
      ]
     },
     "execution_count": 23,
     "metadata": {},
     "output_type": "execute_result"
    }
   ],
   "source": [
    "# Iniciando o DataFrame do dataset iris\n",
    "\n",
    "iris = pd.DataFrame(data.data)\n",
    "iris.columns = data.feature_names\n",
    "iris['target'] = data.target\n",
    "\n",
    "iris.head(3)"
   ]
  },
  {
   "cell_type": "code",
   "execution_count": 14,
   "id": "e5576110",
   "metadata": {},
   "outputs": [
    {
     "data": {
      "text/plain": [
       "target\n",
       "0    50\n",
       "1    50\n",
       "2    50\n",
       "Name: count, dtype: int64"
      ]
     },
     "execution_count": 14,
     "metadata": {},
     "output_type": "execute_result"
    }
   ],
   "source": [
    "# Selecionando apenas as colunas de pétala e target\n",
    "iris.target.value_counts()"
   ]
  },
  {
   "cell_type": "code",
   "execution_count": 24,
   "id": "134a2dcd",
   "metadata": {},
   "outputs": [],
   "source": [
    "# Filtro de target 0 e 1, relacionando apenas com duas dimensões\n",
    "\n",
    "iris1 = iris.loc[iris.target.isin([0, 1]), ['petal length (cm)', 'petal width (cm)', 'target']]"
   ]
  },
  {
   "cell_type": "code",
   "execution_count": 33,
   "id": "1573bec7",
   "metadata": {},
   "outputs": [],
   "source": [
    "# Separando x e y\n",
    "\n",
    "x = iris1.drop('target', axis=1)\n",
    "y = iris1.target"
   ]
  },
  {
   "cell_type": "code",
   "execution_count": 44,
   "id": "0aa39db4",
   "metadata": {},
   "outputs": [],
   "source": [
    "# Separando nossa base de dados em treino e teste utilizando o train_test_split\n",
    "\n",
    "from sklearn.model_selection import train_test_split\n",
    "x_train, x_test, y_train, y_test = train_test_split(x, y, test_size=0.33, random_state=42)"
   ]
  },
  {
   "cell_type": "markdown",
   "id": "9d080b1d",
   "metadata": {},
   "source": [
    "* Podemos visualizar os dados de treino dessa base utilizando **matplotlib**"
   ]
  },
  {
   "cell_type": "code",
   "execution_count": 49,
   "id": "4c55d0f4",
   "metadata": {},
   "outputs": [
    {
     "data": {
      "image/png": "[encoded data removed]",
      "text/plain": [
       "<Figure size 640x480 with 1 Axes>"
      ]
     },
     "metadata": {},
     "output_type": "display_data"
    }
   ],
   "source": [
    "# Visualizando os dados de treino dessa base utilizando matplotlib\n",
    "\n",
    "import matplotlib.pyplot as plt\n",
    "\n",
    "fig, ax = plt.subplots()\n",
    "\n",
    "ax.scatter(X_train['petal length (cm)'], \n",
    "           X_train['petal width (cm)'], \n",
    "           c=y_train)\n",
    "\n",
    "plt.show()"
   ]
  }
 ],
 "metadata": {
  "kernelspec": {
   "display_name": "Python 3",
   "language": "python",
   "name": "python3"
  },
  "language_info": {
   "codemirror_mode": {
    "name": "ipython",
    "version": 3
   },
   "file_extension": ".py",
   "mimetype": "text/x-python",
   "name": "python",
   "nbconvert_exporter": "python",
   "pygments_lexer": "ipython3",
   "version": "3.11.0"
  }
 },
 "nbformat": 4,
 "nbformat_minor": 5
}
