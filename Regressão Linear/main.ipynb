{
 "cells": [
  {
   "cell_type": "markdown",
   "id": "7269eb0d",
   "metadata": {},
   "source": [
    "# Estudo de Regressão Linear\n",
    "\n",
    "* A ideia central é pegar um conjunto de dados que possuem uma ou mais variáveis independentes (features) ($x_i, i=1,\\dots, N$) e uma variável dependente (targets) ($y_i, i=1,\\dots,N$). A partir desse dataset, encontrar uma regressão linear que melhor se encaixe no conjunto de dados.\n",
    "\n",
    "* Como fazer isso? \n",
    "    - Primeiro tomamos uma hipótese do tipo: $h(X, w) = \\sum_n w_n\\cdot x_n$, onde $x_n$ são as variáveis independentes e $w_n$ são parâmetros (bias) para a nossa regressão. Normalmente, considera-se $w_0$ como o intercepto do eixo $y$.\n",
    "    - Assim, ajusta-se os parâmetros $w_n$ para minimizar o erro entre as previsões do modelo e os valores reais. Para isso, cria-se uma função de custo (**Erro Quadrático Médio**) baseada nestes parâmetros: $$J(w_0, w_1) = \\frac{1}{2N} \\sum_{i=1}^N (h(x_i, w) - y_i)^2,$$ onde $N$ é o tamanho do nosso dataset e $y_i$ é o target da variável independente $x_i$.\n",
    "    - Por fim, minimiza-se a função de custo em relação aos parâmetros escolhidos, isto é, a primeira derivada parcial:"
   ]
  },
  {
   "cell_type": "markdown",
   "id": "e2eb0ba0",
   "metadata": {},
   "source": [
    "## Gerando um Dataset a partir do sklearn"
   ]
  },
  {
   "cell_type": "code",
   "execution_count": 112,
   "id": "b53377d0",
   "metadata": {},
   "outputs": [],
   "source": [
    "import sklearn\n",
    "\n",
    "from sklearn.datasets import make_regression\n",
    "\n",
    "X, y = make_regression(n_samples=200, n_features=1, n_targets=1, n_informative=1, noise=6, bias=30, random_state=200)\n",
    "N = 200"
   ]
  },
  {
   "cell_type": "markdown",
   "id": "d9a7ad2e",
   "metadata": {},
   "source": [
    "* Aqui, **make_regression** é utilizado para criar um conjunto de dados.\n",
    "    - n_samples: o número de amostras;\n",
    "    - n_features: o número de variáveis independentes ($x$);\n",
    "    - n_informative: o número de variáveis independentes que entrarão no modelo linear;\n",
    "    - n_targets: o número de resultados esperados pela regressão, o valor de $y_i$ associado a $x_i$;\n",
    "    - bias: parâmetros do modelo;\n",
    "    - Desvios do erro Gaussiano aplicado ao conjunto de dados;\n",
    "\n",
    "* Note que, no exemplo usado, **noise** está baixo para compensar **random_state** alto, ou seja, a geração de dados aleatórias está alta e, portanto, precisamos de baixo ruído. Caso contrário, por padrão, poderíamos deixar random_state=42 e aumentar o ruído para compensar."
   ]
  },
  {
   "cell_type": "markdown",
   "id": "4b9b4416",
   "metadata": {},
   "source": [
    "## Visualizando o dataset com Matplotlib"
   ]
  },
  {
   "cell_type": "code",
   "execution_count": 113,
   "id": "030698f3",
   "metadata": {},
   "outputs": [
    {
     "data": {
      "image/png": "[encoded data removed]",
      "text/plain": [
       "<Figure size 640x480 with 1 Axes>"
      ]
     },
     "metadata": {},
     "output_type": "display_data"
    }
   ],
   "source": [
    "from matplotlib import pyplot as plt\n",
    "\n",
    "plt.scatter(X, y, c=\"red\", alpha=.5, marker='o')\n",
    "plt.xlabel(\"X\")\n",
    "plt.ylabel(\"y\")\n",
    "plt.show()"
   ]
  },
  {
   "cell_type": "markdown",
   "id": "39a5e307",
   "metadata": {},
   "source": [
    "## Modelo Linear - Hipótese"
   ]
  },
  {
   "cell_type": "code",
   "execution_count": 114,
   "id": "77822dbf",
   "metadata": {},
   "outputs": [],
   "source": [
    "import numpy as np\n",
    "\n",
    "def h(X, w):\n",
    "    return w[1]*np.array(X[:,0]) + w[0]"
   ]
  },
  {
   "cell_type": "markdown",
   "id": "eaeb53d2",
   "metadata": {},
   "source": [
    "## Função de Custo"
   ]
  },
  {
   "cell_type": "code",
   "execution_count": 115,
   "id": "17551c5f",
   "metadata": {},
   "outputs": [],
   "source": [
    "def cost(X, y, w):\n",
    "    return (1/(2*N)) * sum(np.square(h(X, w) - np.array(y)))"
   ]
  },
  {
   "cell_type": "markdown",
   "id": "b6c8a919",
   "metadata": {},
   "source": [
    "## Gradient Descent\n",
    "\n",
    "* Derivada parcial em relação aos parâmetros de otimização"
   ]
  },
  {
   "cell_type": "code",
   "execution_count": 116,
   "id": "03698739",
   "metadata": {},
   "outputs": [],
   "source": [
    "def grad(X, y, w):\n",
    "    dj_dw0 = (1/N) * sum(h(X, w) - np.array(y))\n",
    "    dj_dw1 = (1/N) * sum((h(X, w) - np.array(y)) * np.array(X[:,0]))\n",
    "    return np.array([dj_dw0, dj_dw1])"
   ]
  },
  {
   "cell_type": "markdown",
   "id": "d970f735",
   "metadata": {},
   "source": [
    "**learning rate (lr)** $=\\alpha$"
   ]
  },
  {
   "cell_type": "code",
   "execution_count": 117,
   "id": "6bdf5fd9",
   "metadata": {},
   "outputs": [],
   "source": [
    "def descent(w_new, w_prev, lr):\n",
    "    print(w_prev)\n",
    "    print(cost(X, y, w_prev))\n",
    "    j=0\n",
    "    \n",
    "    while True:\n",
    "        w_prev = w_new\n",
    "        w0 = w_prev[0] - lr * grad(X, y, w_prev)[0]\n",
    "        w1 = w_prev[1] - lr * grad(X, y, w_prev)[1]\n",
    "        w_new = [w0, w1]\n",
    "\n",
    "        print(w_new)\n",
    "        print(cost(X, y, w_new))\n",
    "\n",
    "        if (w_new[0]-w_prev[0])**2 + (w_new[1]-w_prev[1])**2 <= 1e-6:\n",
    "            return w_new\n",
    "        if j>500:\n",
    "            return w_new\n",
    "        j+=1\n",
    "        "
   ]
  },
  {
   "cell_type": "code",
   "execution_count": 118,
   "id": "86a948b5",
   "metadata": {},
   "outputs": [],
   "source": [
    "w_prev = [0, -1]"
   ]
  },
  {
   "cell_type": "code",
   "execution_count": 119,
   "id": "125c69f5",
   "metadata": {},
   "outputs": [
    {
     "name": "stdout",
     "output_type": "stream",
     "text": [
      "[0, -1]\n",
      "540.5360663843459\n",
      "[3.095630863344754, 0.11442770988081796]\n",
      "437.9113933642844\n",
      "[5.873446610978821, 1.102345428138287]\n",
      "355.5039050187039\n",
      "[8.366165526017987, 1.977865778324762]\n",
      "289.3267499184996\n",
      "[10.603129563187093, 2.7535473249589413]\n",
      "236.17997507457181\n",
      "[12.610653489037027, 3.44056402638543]\n",
      "193.49509649539317\n",
      "[14.412337853388406, 4.04885635145409]\n",
      "159.21039019959102\n",
      "[16.029349544653595, 4.587266032213947]\n",
      "131.67082846689087\n",
      "[17.48067329182008, 5.063656213710699]\n",
      "109.54778810165583\n",
      "[18.783337126559395, 5.485018573380516]\n",
      "91.77462156224568\n",
      "[19.95261450593569, 5.857568814053482]\n",
      "77.4949550830467\n",
      "[21.002205515744063, 6.186831784078627]\n",
      "66.02119816099956\n",
      "[21.944399323224104, 6.477717343647051]\n",
      "56.80124628992387\n",
      "[22.790219822732876, 6.734587976310906]\n",
      "49.391757899647274\n",
      "[23.54955621620599, 6.9613190374459215]\n",
      "43.436706577550595\n",
      "[24.231280089449346, 7.161352435618198]\n",
      "38.650166444244846\n",
      "[24.843350383306014, 7.337744457271139]\n",
      "34.80249455533613\n",
      "[25.392907513577818, 7.493208368754657]\n",
      "31.709239459080326\n",
      "[25.886357763498506, 7.630152361500888]\n",
      "29.22223761683571\n",
      "[26.329448955986063, 7.750713345236865]\n",
      "27.22246575546645\n",
      "[26.72733830844038, 7.856787039736091]\n",
      "25.614302554322332\n",
      "[27.084653279240055, 7.950054767051353]\n",
      "24.320921533807898\n",
      "[27.40554613120042, 8.032007302818469]\n",
      "23.280591944370727\n",
      "[27.693742862073456, 8.103966106518811]\n",
      "22.44370853026737\n",
      "[27.95258708479349, 8.16710221604077]\n",
      "21.770406408468034\n",
      "[28.1850793797893, 8.22245306104274]\n",
      "21.228645681587775\n",
      "[28.393912587566714, 8.270937422096218]\n",
      "20.79267317617368\n",
      "[28.581503461264624, 8.31336873802263]\n",
      "20.441786972191643\n",
      "[28.75002105541824, 8.350466941915156]\n",
      "20.159344055135413\n",
      "[28.901412188203544, 8.38286898677388]\n",
      "19.931963192007146\n",
      "[29.03742427951789, 8.411138204226756]\n",
      "19.748884578668044\n",
      "[29.159625835953786, 8.43577262423396]\n",
      "19.60145538777075\n",
      "[29.2694248256702, 8.457212369777881]\n",
      "19.48271643196958\n",
      "[29.368085161021078, 8.475846228144908]\n",
      "19.387070041859428\n",
      "[29.45674148426251, 8.492017489347576]\n",
      "19.310013179228132\n",
      "[29.536412431457247, 8.506029132372676]\n",
      "19.24792295396927\n",
      "[29.60801253158606, 8.518148431144404]\n",
      "19.197884240056137\n",
      "[29.672362881642048, 8.528611044246798]\n",
      "19.157551114830056\n",
      "[29.73020072393229, 8.53762464545433]\n",
      "19.125035474814137\n",
      "[29.782188038766204, 8.545372145882027]\n",
      "19.098817489222558\n",
      "[29.828919254015993, 8.552014553005524]\n",
      "19.077673602614105\n",
      "[29.87092816255075, 8.557693506843798]\n",
      "19.060618641549723\n",
      "[29.90869412914744, 8.562533529178294]\n",
      "19.046859257450855\n",
      "[29.942647660055936, 8.566644017743357]\n",
      "19.03575648184936\n",
      "[29.97317540084111, 8.570121013812622]\n",
      "19.026795607153893\n",
      "[30.000624621352255, 8.573048768478007]\n",
      "19.019561957024994\n",
      "[30.025307240597662, 8.575501130130792]\n",
      "19.013721392385282\n",
      "[30.047503438857856, 8.577542773171219]\n",
      "19.009004625587373\n",
      "[30.067464899489234, 8.579230285761]\n",
      "19.00519459723607\n",
      "[30.085417718492856, 8.580613132462975]\n",
      "19.002116316375115\n",
      "[30.101565015998244, 8.58173450585744]\n",
      "18.999628682240036\n",
      "[30.11608928029284, 8.58263207966216]\n",
      "18.997617900197067\n",
      "[30.12915447187187, 8.583338674491875]\n",
      "18.99599218037143\n",
      "[30.14090791215345, 8.583882846154578]\n",
      "18.99467746846134\n",
      "[30.151481978966018, 8.58428940527936]\n",
      "18.993614007260764\n",
      "[30.160995628639302, 8.584579876089471]\n",
      "18.992753566829876\n",
      "[30.169555762489143, 8.584772901261083]\n",
      "18.992057212939287\n",
      "[30.177258453655917, 8.58488459903139]\n",
      "18.991493508895637\n",
      "[30.184190048614877, 8.584928878028588]\n",
      "18.991037066345022\n",
      "[30.190428156204195, 8.584917714681557]\n",
      "18.990667377130414\n",
      "[30.196042535696083, 8.58486139752043]\n",
      "18.99036787153328\n",
      "[30.201095894251807, 8.584768742193143]\n",
      "18.9901251588921\n",
      "[30.205644603039065, 8.584647280590932]\n",
      "18.989928415168315\n",
      "[30.20973934033721, 8.584503427091706]\n",
      "18.989768888932023\n",
      "[30.21342566910097, 8.584342624588821]\n",
      "18.98963950279431\n",
      "[30.216744555686475, 8.584169472669569]\n",
      "18.98953453178218\n",
      "[30.219732835755565, 8.583987840038262]\n",
      "18.98944934375118\n",
      "[30.22242363275721, 8.583800963039538]\n",
      "18.989380189826495\n",
      "[30.22484673383125, 8.583611531925033]\n",
      "18.98932403519522\n",
      "[30.227028927482966, 8.583421766317985]\n",
      "18.98927842245162\n",
      "[30.228994306931416, 8.583233481162887]\n",
      "18.989241361207984\n",
      "[30.23076454263459, 8.583048144298838]\n",
      "18.989211238903383\n",
      "[30.23235912713573, 8.582866926663364]\n",
      "18.989186748722968\n",
      "[30.233795595053294, 8.582690746016727]\n",
      "18.989166831332213\n",
      "[30.235089720748128, 8.582520304973011]\n",
      "18.989150627766747\n",
      "[30.23625569594233, 8.582356124032495]\n",
      "18.989137441333266\n",
      "[30.237306289331627, 8.582198570228412]\n",
      "18.989126706789886\n",
      "[30.238252990024396, 8.582047881929046]\n",
      "18.989117965409232\n",
      "[30.238252990024396, 8.582047881929046]\n"
     ]
    }
   ],
   "source": [
    "w = descent(w_prev, w_prev, 0.1)\n",
    "print(w)"
   ]
  },
  {
   "cell_type": "markdown",
   "id": "42d11add",
   "metadata": {},
   "source": [
    "## Visualizando os resultados"
   ]
  },
  {
   "cell_type": "code",
   "execution_count": 122,
   "id": "0a1a232d",
   "metadata": {},
   "outputs": [
    {
     "data": {
      "image/png": "[encoded data removed]",
      "text/plain": [
       "<Figure size 640x480 with 1 Axes>"
      ]
     },
     "metadata": {},
     "output_type": "display_data"
    }
   ],
   "source": [
    "def graph(formula, x_range):\n",
    "    x = np.array(x_range)\n",
    "    y = formula(x)\n",
    "    plt.plot(x, y)\n",
    "\n",
    "def my_formula(x):\n",
    "    return w[1]*x + w[0]\n",
    "\n",
    "plt.scatter(X, y, c=\"red\", alpha=.5, marker='o')\n",
    "graph(my_formula, range(-3, 4))\n",
    "plt.xlabel(\"X\")\n",
    "plt.ylabel(\"y\")\n",
    "plt.show()\n"
   ]
  },
  {
   "cell_type": "markdown",
   "id": "28f4ce35",
   "metadata": {},
   "source": [
    "# Regressão Linear a partir do Sklearn"
   ]
  },
  {
   "cell_type": "markdown",
   "id": "1586d559",
   "metadata": {},
   "source": [
    "* A biblioteca sklearn constrói a melhor reta de forma a minimizar a **soma dos erros ao quadrado** em relação aos dados."
   ]
  },
  {
   "cell_type": "code",
   "execution_count": 16,
   "id": "aa33632e",
   "metadata": {},
   "outputs": [],
   "source": [
    "import numpy as np\n",
    "import sklearn\n",
    "import pandas as pd\n",
    "\n",
    "from sklearn.linear_model import LinearRegression"
   ]
  },
  {
   "cell_type": "code",
   "execution_count": 15,
   "id": "2d54810e",
   "metadata": {},
   "outputs": [],
   "source": [
    "from sklearn.metrics import mean_squared_error\n",
    "from sklearn.metrics import mean_absolute_error"
   ]
  },
  {
   "cell_type": "markdown",
   "id": "c305be9f",
   "metadata": {},
   "source": [
    "* Utilizando o dataset de casas da Califórinia"
   ]
  },
  {
   "cell_type": "code",
   "execution_count": 4,
   "id": "6b78eb3a",
   "metadata": {},
   "outputs": [],
   "source": [
    "from sklearn.datasets import fetch_california_housing\n",
    "\n",
    "data = fetch_california_housing()"
   ]
  },
  {
   "cell_type": "code",
   "execution_count": 5,
   "id": "bf59ae5d",
   "metadata": {},
   "outputs": [
    {
     "data": {
      "text/plain": [
       "{'data': array([[   8.3252    ,   41.        ,    6.98412698, ...,    2.55555556,\n",
       "           37.88      , -122.23      ],\n",
       "        [   8.3014    ,   21.        ,    6.23813708, ...,    2.10984183,\n",
       "           37.86      , -122.22      ],\n",
       "        [   7.2574    ,   52.        ,    8.28813559, ...,    2.80225989,\n",
       "           37.85      , -122.24      ],\n",
       "        ...,\n",
       "        [   1.7       ,   17.        ,    5.20554273, ...,    2.3256351 ,\n",
       "           39.43      , -121.22      ],\n",
       "        [   1.8672    ,   18.        ,    5.32951289, ...,    2.12320917,\n",
       "           39.43      , -121.32      ],\n",
       "        [   2.3886    ,   16.        ,    5.25471698, ...,    2.61698113,\n",
       "           39.37      , -121.24      ]]),\n",
       " 'target': array([4.526, 3.585, 3.521, ..., 0.923, 0.847, 0.894]),\n",
       " 'frame': None,\n",
       " 'target_names': ['MedHouseVal'],\n",
       " 'feature_names': ['MedInc',\n",
       "  'HouseAge',\n",
       "  'AveRooms',\n",
       "  'AveBedrms',\n",
       "  'Population',\n",
       "  'AveOccup',\n",
       "  'Latitude',\n",
       "  'Longitude'],\n",
       " 'DESCR': '.. _california_housing_dataset:\\n\\nCalifornia Housing dataset\\n--------------------------\\n\\n**Data Set Characteristics:**\\n\\n:Number of Instances: 20640\\n\\n:Number of Attributes: 8 numeric, predictive attributes and the target\\n\\n:Attribute Information:\\n    - MedInc        median income in block group\\n    - HouseAge      median house age in block group\\n    - AveRooms      average number of rooms per household\\n    - AveBedrms     average number of bedrooms per household\\n    - Population    block group population\\n    - AveOccup      average number of household members\\n    - Latitude      block group latitude\\n    - Longitude     block group longitude\\n\\n:Missing Attribute Values: None\\n\\nThis dataset was obtained from the StatLib repository.\\nhttps://www.dcc.fc.up.pt/~ltorgo/Regression/cal_housing.html\\n\\nThe target variable is the median house value for California districts,\\nexpressed in hundreds of thousands of dollars ($100,000).\\n\\nThis dataset was derived from the 1990 U.S. census, using one row per census\\nblock group. A block group is the smallest geographical unit for which the U.S.\\nCensus Bureau publishes sample data (a block group typically has a population\\nof 600 to 3,000 people).\\n\\nA household is a group of people residing within a home. Since the average\\nnumber of rooms and bedrooms in this dataset are provided per household, these\\ncolumns may take surprisingly large values for block groups with few households\\nand many empty houses, such as vacation resorts.\\n\\nIt can be downloaded/loaded using the\\n:func:`sklearn.datasets.fetch_california_housing` function.\\n\\n.. rubric:: References\\n\\n- Pace, R. Kelley and Ronald Barry, Sparse Spatial Autoregressions,\\n  Statistics and Probability Letters, 33:291-297, 1997.\\n'}"
      ]
     },
     "execution_count": 5,
     "metadata": {},
     "output_type": "execute_result"
    }
   ],
   "source": [
    "data"
   ]
  },
  {
   "cell_type": "code",
   "execution_count": 13,
   "id": "14200a9f",
   "metadata": {},
   "outputs": [
    {
     "data": {
      "text/html": [
       "<div>\n",
       "<style scoped>\n",
       "    .dataframe tbody tr th:only-of-type {\n",
       "        vertical-align: middle;\n",
       "    }\n",
       "\n",
       "    .dataframe tbody tr th {\n",
       "        vertical-align: top;\n",
       "    }\n",
       "\n",
       "    .dataframe thead th {\n",
       "        text-align: right;\n",
       "    }\n",
       "</style>\n",
       "<table border=\"1\" class=\"dataframe\">\n",
       "  <thead>\n",
       "    <tr style=\"text-align: right;\">\n",
       "      <th></th>\n",
       "      <th>MedInc</th>\n",
       "      <th>HouseAge</th>\n",
       "      <th>AveRooms</th>\n",
       "      <th>AveBedrms</th>\n",
       "      <th>Population</th>\n",
       "      <th>AveOccup</th>\n",
       "      <th>Latitude</th>\n",
       "      <th>Longitude</th>\n",
       "      <th>MedHouseVal</th>\n",
       "    </tr>\n",
       "  </thead>\n",
       "  <tbody>\n",
       "    <tr>\n",
       "      <th>0</th>\n",
       "      <td>8.3252</td>\n",
       "      <td>41.0</td>\n",
       "      <td>6.984127</td>\n",
       "      <td>1.023810</td>\n",
       "      <td>322.0</td>\n",
       "      <td>2.555556</td>\n",
       "      <td>37.88</td>\n",
       "      <td>-122.23</td>\n",
       "      <td>4.526</td>\n",
       "    </tr>\n",
       "    <tr>\n",
       "      <th>1</th>\n",
       "      <td>8.3014</td>\n",
       "      <td>21.0</td>\n",
       "      <td>6.238137</td>\n",
       "      <td>0.971880</td>\n",
       "      <td>2401.0</td>\n",
       "      <td>2.109842</td>\n",
       "      <td>37.86</td>\n",
       "      <td>-122.22</td>\n",
       "      <td>3.585</td>\n",
       "    </tr>\n",
       "    <tr>\n",
       "      <th>2</th>\n",
       "      <td>7.2574</td>\n",
       "      <td>52.0</td>\n",
       "      <td>8.288136</td>\n",
       "      <td>1.073446</td>\n",
       "      <td>496.0</td>\n",
       "      <td>2.802260</td>\n",
       "      <td>37.85</td>\n",
       "      <td>-122.24</td>\n",
       "      <td>3.521</td>\n",
       "    </tr>\n",
       "    <tr>\n",
       "      <th>3</th>\n",
       "      <td>5.6431</td>\n",
       "      <td>52.0</td>\n",
       "      <td>5.817352</td>\n",
       "      <td>1.073059</td>\n",
       "      <td>558.0</td>\n",
       "      <td>2.547945</td>\n",
       "      <td>37.85</td>\n",
       "      <td>-122.25</td>\n",
       "      <td>3.413</td>\n",
       "    </tr>\n",
       "    <tr>\n",
       "      <th>4</th>\n",
       "      <td>3.8462</td>\n",
       "      <td>52.0</td>\n",
       "      <td>6.281853</td>\n",
       "      <td>1.081081</td>\n",
       "      <td>565.0</td>\n",
       "      <td>2.181467</td>\n",
       "      <td>37.85</td>\n",
       "      <td>-122.25</td>\n",
       "      <td>3.422</td>\n",
       "    </tr>\n",
       "    <tr>\n",
       "      <th>...</th>\n",
       "      <td>...</td>\n",
       "      <td>...</td>\n",
       "      <td>...</td>\n",
       "      <td>...</td>\n",
       "      <td>...</td>\n",
       "      <td>...</td>\n",
       "      <td>...</td>\n",
       "      <td>...</td>\n",
       "      <td>...</td>\n",
       "    </tr>\n",
       "    <tr>\n",
       "      <th>20635</th>\n",
       "      <td>1.5603</td>\n",
       "      <td>25.0</td>\n",
       "      <td>5.045455</td>\n",
       "      <td>1.133333</td>\n",
       "      <td>845.0</td>\n",
       "      <td>2.560606</td>\n",
       "      <td>39.48</td>\n",
       "      <td>-121.09</td>\n",
       "      <td>0.781</td>\n",
       "    </tr>\n",
       "    <tr>\n",
       "      <th>20636</th>\n",
       "      <td>2.5568</td>\n",
       "      <td>18.0</td>\n",
       "      <td>6.114035</td>\n",
       "      <td>1.315789</td>\n",
       "      <td>356.0</td>\n",
       "      <td>3.122807</td>\n",
       "      <td>39.49</td>\n",
       "      <td>-121.21</td>\n",
       "      <td>0.771</td>\n",
       "    </tr>\n",
       "    <tr>\n",
       "      <th>20637</th>\n",
       "      <td>1.7000</td>\n",
       "      <td>17.0</td>\n",
       "      <td>5.205543</td>\n",
       "      <td>1.120092</td>\n",
       "      <td>1007.0</td>\n",
       "      <td>2.325635</td>\n",
       "      <td>39.43</td>\n",
       "      <td>-121.22</td>\n",
       "      <td>0.923</td>\n",
       "    </tr>\n",
       "    <tr>\n",
       "      <th>20638</th>\n",
       "      <td>1.8672</td>\n",
       "      <td>18.0</td>\n",
       "      <td>5.329513</td>\n",
       "      <td>1.171920</td>\n",
       "      <td>741.0</td>\n",
       "      <td>2.123209</td>\n",
       "      <td>39.43</td>\n",
       "      <td>-121.32</td>\n",
       "      <td>0.847</td>\n",
       "    </tr>\n",
       "    <tr>\n",
       "      <th>20639</th>\n",
       "      <td>2.3886</td>\n",
       "      <td>16.0</td>\n",
       "      <td>5.254717</td>\n",
       "      <td>1.162264</td>\n",
       "      <td>1387.0</td>\n",
       "      <td>2.616981</td>\n",
       "      <td>39.37</td>\n",
       "      <td>-121.24</td>\n",
       "      <td>0.894</td>\n",
       "    </tr>\n",
       "  </tbody>\n",
       "</table>\n",
       "<p>20640 rows × 9 columns</p>\n",
       "</div>"
      ],
      "text/plain": [
       "       MedInc  HouseAge  AveRooms  AveBedrms  Population  AveOccup  Latitude  \\\n",
       "0      8.3252      41.0  6.984127   1.023810       322.0  2.555556     37.88   \n",
       "1      8.3014      21.0  6.238137   0.971880      2401.0  2.109842     37.86   \n",
       "2      7.2574      52.0  8.288136   1.073446       496.0  2.802260     37.85   \n",
       "3      5.6431      52.0  5.817352   1.073059       558.0  2.547945     37.85   \n",
       "4      3.8462      52.0  6.281853   1.081081       565.0  2.181467     37.85   \n",
       "...       ...       ...       ...        ...         ...       ...       ...   \n",
       "20635  1.5603      25.0  5.045455   1.133333       845.0  2.560606     39.48   \n",
       "20636  2.5568      18.0  6.114035   1.315789       356.0  3.122807     39.49   \n",
       "20637  1.7000      17.0  5.205543   1.120092      1007.0  2.325635     39.43   \n",
       "20638  1.8672      18.0  5.329513   1.171920       741.0  2.123209     39.43   \n",
       "20639  2.3886      16.0  5.254717   1.162264      1387.0  2.616981     39.37   \n",
       "\n",
       "       Longitude  MedHouseVal  \n",
       "0        -122.23        4.526  \n",
       "1        -122.22        3.585  \n",
       "2        -122.24        3.521  \n",
       "3        -122.25        3.413  \n",
       "4        -122.25        3.422  \n",
       "...          ...          ...  \n",
       "20635    -121.09        0.781  \n",
       "20636    -121.21        0.771  \n",
       "20637    -121.22        0.923  \n",
       "20638    -121.32        0.847  \n",
       "20639    -121.24        0.894  \n",
       "\n",
       "[20640 rows x 9 columns]"
      ]
     },
     "execution_count": 13,
     "metadata": {},
     "output_type": "execute_result"
    }
   ],
   "source": [
    "casas = pd.DataFrame(data.data)\n",
    "casas.columns = data.feature_names\n",
    "casas['MedHouseVal'] = data.target\n",
    "\n",
    "casas"
   ]
  },
  {
   "cell_type": "markdown",
   "id": "b045106f",
   "metadata": {},
   "source": [
    "* Regressão Linear simples\n",
    "    - Relaciona uma única coluna com o target"
   ]
  },
  {
   "cell_type": "code",
   "execution_count": 14,
   "id": "1cec2ebd",
   "metadata": {},
   "outputs": [],
   "source": [
    "x = casas.MedInc # feature\n",
    "y = casas.MedHouseVal # target"
   ]
  },
  {
   "cell_type": "code",
   "execution_count": 28,
   "id": "abf6dd41",
   "metadata": {},
   "outputs": [],
   "source": [
    "# Separando os dados em treino e teste\n",
    "from sklearn.model_selection import train_test_split\n",
    "x_train, x_test, y_train, y_test = train_test_split(x, y, test_size=0.33, random_state=42)"
   ]
  },
  {
   "cell_type": "code",
   "execution_count": 29,
   "id": "39fa95aa",
   "metadata": {},
   "outputs": [],
   "source": [
    "# Criando o regressor\n",
    "reg = LinearRegression().fit(np.array(x_train).reshape(-1,1), y_train)"
   ]
  },
  {
   "cell_type": "code",
   "execution_count": 30,
   "id": "ccaee2e6",
   "metadata": {},
   "outputs": [
    {
     "name": "stdout",
     "output_type": "stream",
     "text": [
      "Mean Absolute Error: 0.6265986453094173\n",
      "Mean Squared Error: 0.7028461448540976\n"
     ]
    }
   ],
   "source": [
    "# Avaliando o erro\n",
    "y_pred = reg.predict(np.array(x_test).reshape(-1,1))\n",
    "\n",
    "print(\"Mean Absolute Error:\", mean_absolute_error(y_test, y_pred))\n",
    "print(\"Mean Squared Error:\", mean_squared_error(y_test, y_pred))"
   ]
  },
  {
   "cell_type": "code",
   "execution_count": 34,
   "id": "994943f8",
   "metadata": {},
   "outputs": [
    {
     "data": {
      "text/plain": [
       "<matplotlib.collections.PathCollection at 0x1fd766f4290>"
      ]
     },
     "execution_count": 34,
     "metadata": {},
     "output_type": "execute_result"
    },
    {
     "data": {
      "image/png": "[encoded data removed]",
      "text/plain": [
       "<Figure size 640x480 with 1 Axes>"
      ]
     },
     "metadata": {},
     "output_type": "display_data"
    }
   ],
   "source": [
    "# Visualizando graficamente a relação entre dados previstos e reais\n",
    "import matplotlib.pyplot as plt\n",
    "\n",
    "fig, ax = plt.subplots()\n",
    "\n",
    "ax.scatter(y_pred, y_test)"
   ]
  },
  {
   "cell_type": "markdown",
   "id": "0b46ad51",
   "metadata": {},
   "source": [
    "* Regressão Linear Múltipla"
   ]
  },
  {
   "cell_type": "markdown",
   "id": "5edf8b58",
   "metadata": {},
   "source": [
    "* Apenas duas variáveis"
   ]
  },
  {
   "cell_type": "code",
   "execution_count": 39,
   "id": "328a961d",
   "metadata": {},
   "outputs": [],
   "source": [
    "x = casas[['MedInc', 'AveBedrms']] # features\n",
    "y = casas.MedHouseVal # target"
   ]
  },
  {
   "cell_type": "code",
   "execution_count": 40,
   "id": "304b3096",
   "metadata": {},
   "outputs": [],
   "source": [
    "x_train, x_test, y_train, y_test = train_test_split(x, y, test_size=0.33, random_state=42)"
   ]
  },
  {
   "cell_type": "code",
   "execution_count": 42,
   "id": "452813fb",
   "metadata": {},
   "outputs": [],
   "source": [
    "reg = LinearRegression().fit(x_train, y_train)"
   ]
  },
  {
   "cell_type": "code",
   "execution_count": 44,
   "id": "d57f91b7",
   "metadata": {},
   "outputs": [
    {
     "data": {
      "text/plain": [
       "array([0.41732849, 0.00059442])"
      ]
     },
     "execution_count": 44,
     "metadata": {},
     "output_type": "execute_result"
    }
   ],
   "source": [
    "reg.coef_"
   ]
  },
  {
   "cell_type": "code",
   "execution_count": 45,
   "id": "a3d1be2c",
   "metadata": {},
   "outputs": [
    {
     "data": {
      "text/plain": [
       "0.44810749063254973"
      ]
     },
     "execution_count": 45,
     "metadata": {},
     "output_type": "execute_result"
    }
   ],
   "source": [
    "reg.intercept_"
   ]
  },
  {
   "cell_type": "code",
   "execution_count": 43,
   "id": "22b9d1b5",
   "metadata": {},
   "outputs": [
    {
     "name": "stdout",
     "output_type": "stream",
     "text": [
      "Mean Absolute Error: 0.6266005452778879\n",
      "Mean Squared Error: 0.7028544349993665\n"
     ]
    }
   ],
   "source": [
    "# Avaliando o erro\n",
    "y_pred = reg.predict(x_test)\n",
    "\n",
    "print(\"Mean Absolute Error:\", mean_absolute_error(y_test, y_pred))\n",
    "print(\"Mean Squared Error:\", mean_squared_error(y_test, y_pred))"
   ]
  },
  {
   "cell_type": "markdown",
   "id": "43c6705c",
   "metadata": {},
   "source": [
    "* Mais de duas variáveis (colunas)"
   ]
  },
  {
   "cell_type": "code",
   "execution_count": 46,
   "id": "6bb661b2",
   "metadata": {},
   "outputs": [],
   "source": [
    "x = casas.drop(columns=['MedHouseVal'], axis=1) # features\n",
    "y = casas.MedHouseVal # target"
   ]
  },
  {
   "cell_type": "code",
   "execution_count": 47,
   "id": "59fcd7e4",
   "metadata": {},
   "outputs": [],
   "source": [
    "x_train, x_test, y_train, y_test = train_test_split(x, y, test_size=0.33, random_state=42)"
   ]
  },
  {
   "cell_type": "code",
   "execution_count": 48,
   "id": "379d5f0d",
   "metadata": {},
   "outputs": [],
   "source": [
    "reg = LinearRegression().fit(x_train, y_train)"
   ]
  },
  {
   "cell_type": "code",
   "execution_count": 49,
   "id": "85b186e7",
   "metadata": {},
   "outputs": [
    {
     "name": "stdout",
     "output_type": "stream",
     "text": [
      "Mean Absolute Error: 0.5295710106684458\n",
      "Mean Squared Error: 0.5369686543372468\n"
     ]
    }
   ],
   "source": [
    "# Avaliando o erro\n",
    "y_pred = reg.predict(x_test)\n",
    "\n",
    "print(\"Mean Absolute Error:\", mean_absolute_error(y_test, y_pred))\n",
    "print(\"Mean Squared Error:\", mean_squared_error(y_test, y_pred))"
   ]
  },
  {
   "cell_type": "markdown",
   "id": "91541e54",
   "metadata": {},
   "source": [
    "Percebe-se que, conforme mais colunas são adicionadas na predição, menor será o erro na regressão Linear, mostrando a dependência do valor previsto para o nosso target com os dados dependentes."
   ]
  }
 ],
 "metadata": {
  "kernelspec": {
   "display_name": "Python 3",
   "language": "python",
   "name": "python3"
  },
  "language_info": {
   "codemirror_mode": {
    "name": "ipython",
    "version": 3
   },
   "file_extension": ".py",
   "mimetype": "text/x-python",
   "name": "python",
   "nbconvert_exporter": "python",
   "pygments_lexer": "ipython3",
   "version": "3.11.0"
  }
 },
 "nbformat": 4,
 "nbformat_minor": 5
}
